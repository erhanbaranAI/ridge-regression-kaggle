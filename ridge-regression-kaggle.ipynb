{
 "cells": [
  {
   "cell_type": "code",
   "execution_count": 1,
   "id": "c0e526f7-6d14-4521-a698-503dfa6f665f",
   "metadata": {},
   "outputs": [],
   "source": [
    "import numpy as np\n",
    "import pandas as pd\n",
    "import time\n",
    "from sklearn.model_selection import train_test_split\n",
    "from sklearn.linear_model import LinearRegression\n",
    "from sklearn.metrics import r2_score, mean_squared_error\n",
    "\n",
    "def preprocess_dataset_train(file_path):\n",
    "    \"\"\"\n",
    "    Train veri setini hazırlar: Eksik değerleri doldurur, kategorik değişkenleri işler,\n",
    "    log dönüşümü uygular, düşük korelasyonlu sütunları temizler ve IQR yöntemiyle aykırı\n",
    "    değerleri sınırlar.\n",
    "    \"\"\"\n",
    "    # 📌 1. CSV dosyasını oku\n",
    "    df = pd.read_csv(file_path)\n",
    "    print(f\"✅ Veri yüklendi: {df.shape}\")\n",
    "\n",
    "    # 🟢 2. Log dönüşümünü uygula (ÖNEMLİ!)\n",
    "    df[\"SalePrice\"] = np.log1p(df[\"SalePrice\"])\n",
    "    print(\"✅ Log dönüşümü uygulandı!\")\n",
    "\n",
    "    # 🟢 3. Eksik değerleri doldur\n",
    "    df[\"GarageYrBlt\"].fillna(0, inplace=True)\n",
    "    df[\"LotFrontage\"] = df.groupby(\"Neighborhood\")[\"LotFrontage\"].transform(lambda x: x.fillna(x.median()))\n",
    "    df[\"MasVnrArea\"].fillna(0, inplace=True)\n",
    "    print(\"✅ Eksik değerler dolduruldu!\")\n",
    "\n",
    "    # 🟢 4. Ordinal Encoding Uygula\n",
    "    ordinal_features = {\n",
    "        \"ExterQual\": {\"Ex\": 5, \"Gd\": 4, \"TA\": 3, \"Fa\": 2, \"Po\": 1},\n",
    "        \"ExterCond\": {\"Ex\": 5, \"Gd\": 4, \"TA\": 3, \"Fa\": 2, \"Po\": 1},\n",
    "        \"BsmtQual\": {\"Ex\": 5, \"Gd\": 4, \"TA\": 3, \"Fa\": 2, \"Po\": 1, \"NA\": 0},\n",
    "        \"BsmtCond\": {\"Ex\": 5, \"Gd\": 4, \"TA\": 3, \"Fa\": 2, \"Po\": 1, \"NA\": 0},\n",
    "        \"KitchenQual\": {\"Ex\": 5, \"Gd\": 4, \"TA\": 3, \"Fa\": 2, \"Po\": 1},\n",
    "        \"FireplaceQu\": {\"Ex\": 5, \"Gd\": 4, \"TA\": 3, \"Fa\": 2, \"Po\": 1, \"NA\": 0},\n",
    "        \"GarageQual\": {\"Ex\": 5, \"Gd\": 4, \"TA\": 3, \"Fa\": 2, \"Po\": 1, \"NA\": 0},\n",
    "        \"GarageCond\": {\"Ex\": 5, \"Gd\": 4, \"TA\": 3, \"Fa\": 2, \"Po\": 1, \"NA\": 0},\n",
    "        \"PoolQC\": {\"Ex\": 5, \"Gd\": 4, \"TA\": 3, \"Fa\": 2, \"NA\": 0},\n",
    "        \"Fence\": {\"GdPrv\": 4, \"MnPrv\": 3, \"GdWo\": 2, \"MnWw\": 1, \"NA\": 0}\n",
    "    }\n",
    "    \n",
    "    for col, mapping in ordinal_features.items():\n",
    "        df[col] = df[col].map(mapping)\n",
    "\n",
    "    print(\"✅ Ordinal Encoding tamamlandı!\")\n",
    "\n",
    "    # 🟢 5. One-Hot Encoding\n",
    "    categorical_cols = df.select_dtypes(include=['object']).columns\n",
    "    df = pd.get_dummies(df, columns=categorical_cols, drop_first=True)\n",
    "    print(\"✅ One-Hot Encoding tamamlandı!\")\n",
    "\n",
    "    # 🟢 6. SalePrice ile düşük korelasyonlu sütunları kaldır\n",
    "    correlation_threshold = 0.05\n",
    "    corr_with_saleprice = df.corr()[\"SalePrice\"].abs()\n",
    "    low_corr_features = corr_with_saleprice[corr_with_saleprice < correlation_threshold].index\n",
    "    df.drop(columns=low_corr_features, inplace=True)\n",
    "    print(f\"✅ Düşük korelasyonlu {len(low_corr_features)} sütun kaldırıldı!\")\n",
    "\n",
    "    # 🟢 7. Sayısal değişkenlerdeki eksik değerleri MEDIAN ile doldur\n",
    "    numerical_cols = df.select_dtypes(include=['int64', 'float64']).columns\n",
    "    missing_before = df[numerical_cols].isna().sum().sum()\n",
    "    df[numerical_cols] = df[numerical_cols].apply(lambda x: x.fillna(x.median()))\n",
    "    print(f\"✅ Sayısal eksik değerler median ile dolduruldu! Toplam değiştirilen hücre sayısı: {missing_before}\")\n",
    "\n",
    "    # 🟢 8. Aykırı Değerleri IQR ile Kırp\n",
    "    def remove_outliers_iqr(df, columns):\n",
    "        for col in columns:\n",
    "            Q1 = df[col].quantile(0.25)\n",
    "            Q3 = df[col].quantile(0.75)\n",
    "            IQR = Q3 - Q1\n",
    "            lower_bound = Q1 - 1.5 * IQR\n",
    "            upper_bound = Q3 + 1.5 * IQR\n",
    "            df[col] = np.clip(df[col], lower_bound, upper_bound)\n",
    "        return df\n",
    "\n",
    "    df = remove_outliers_iqr(df, numerical_cols)\n",
    "    print(\"✅ Aykırı değerler IQR yöntemiyle kırpıldı!\")\n",
    "\n",
    "    return df\n"
   ]
  },
  {
   "cell_type": "code",
   "execution_count": 2,
   "id": "cc00a365-2679-4a4d-9784-bbf8ac576899",
   "metadata": {},
   "outputs": [],
   "source": [
    "from sklearn.linear_model import Ridge\n",
    "\n",
    "def train_ridge_regression(df, alpha=1.0):\n",
    "    \"\"\"\n",
    "    Ridge Regression modeli eğitir ve performans metriklerini ekrana yazdırır.\n",
    "    Ridge modelinin düzgün çalışması için L2 regulizasyon parametresi olan alpha kullanılabilir.\n",
    "    \"\"\"\n",
    "    # 📌 Hedef değişkeni ve özellikleri belirle\n",
    "    y = df[\"SalePrice\"]\n",
    "    X = df.drop(columns=[\"SalePrice\"])\n",
    "\n",
    "    # 📌 Veriyi Eğitim ve Test Setlerine Bölme\n",
    "    X_train, X_test, y_train, y_test = train_test_split(X, y, test_size=0.001, random_state=42)\n",
    "\n",
    "    # 📌 Ridge Modelini Başlat ve Eğit\n",
    "    model = Ridge(alpha=alpha)\n",
    "    start_time = time.time()\n",
    "    model.fit(X_train, y_train)\n",
    "\n",
    "    # 📌 Tahmin Yapma\n",
    "    y_pred = model.predict(X_test)\n",
    "\n",
    "    # 📌 Performans Metriklerini Hesapla\n",
    "    r2 = r2_score(y_test, y_pred)\n",
    "    rmse_log = np.sqrt(mean_squared_error(np.log1p(y_test), np.log1p(np.maximum(y_pred, 0))))\n",
    "    elapsed_time = time.time() - start_time\n",
    "\n",
    "    # 📌 Sonuçları Ekrana Yazdır\n",
    "    print(\"\\n✅ **Ridge Regression Modeli Eğitildi!**\")\n",
    "    print(f\"📊 **R² Score:** {r2:.5f}\")\n",
    "    print(f\"📉 **RMSE Log:** {rmse_log:.5f}\")\n",
    "    print(f\"⏳ **Training Time:** {elapsed_time:.5f} saniye\")\n",
    "    print(f\"🔧 **Alpha:** {alpha}\")\n",
    "\n",
    "    return model\n"
   ]
  },
  {
   "cell_type": "code",
   "execution_count": 3,
   "id": "18ca8e85-b349-4b76-8aa2-7a20f2034c5a",
   "metadata": {},
   "outputs": [
    {
     "name": "stdout",
     "output_type": "stream",
     "text": [
      "✅ Veri yüklendi: (1460, 81)\n",
      "✅ Log dönüşümü uygulandı!\n",
      "✅ Eksik değerler dolduruldu!\n",
      "✅ Ordinal Encoding tamamlandı!\n",
      "✅ One-Hot Encoding tamamlandı!\n",
      "✅ Düşük korelasyonlu 76 sütun kaldırıldı!\n",
      "✅ Sayısal eksik değerler median ile dolduruldu! Toplam değiştirilen hücre sayısı: 3558\n",
      "✅ Aykırı değerler IQR yöntemiyle kırpıldı!\n"
     ]
    },
    {
     "name": "stderr",
     "output_type": "stream",
     "text": [
      "C:\\Users\\lerha\\AppData\\Local\\Temp\\ipykernel_12696\\3567520513.py:23: FutureWarning: A value is trying to be set on a copy of a DataFrame or Series through chained assignment using an inplace method.\n",
      "The behavior will change in pandas 3.0. This inplace method will never work because the intermediate object on which we are setting values always behaves as a copy.\n",
      "\n",
      "For example, when doing 'df[col].method(value, inplace=True)', try using 'df.method({col: value}, inplace=True)' or df[col] = df[col].method(value) instead, to perform the operation inplace on the original object.\n",
      "\n",
      "\n",
      "  df[\"GarageYrBlt\"].fillna(0, inplace=True)\n",
      "C:\\Users\\lerha\\AppData\\Local\\Temp\\ipykernel_12696\\3567520513.py:25: FutureWarning: A value is trying to be set on a copy of a DataFrame or Series through chained assignment using an inplace method.\n",
      "The behavior will change in pandas 3.0. This inplace method will never work because the intermediate object on which we are setting values always behaves as a copy.\n",
      "\n",
      "For example, when doing 'df[col].method(value, inplace=True)', try using 'df.method({col: value}, inplace=True)' or df[col] = df[col].method(value) instead, to perform the operation inplace on the original object.\n",
      "\n",
      "\n",
      "  df[\"MasVnrArea\"].fillna(0, inplace=True)\n"
     ]
    }
   ],
   "source": [
    "# Train veri setini işle\n",
    "train_prepared = preprocess_dataset_train(\"train.csv\")"
   ]
  },
  {
   "cell_type": "code",
   "execution_count": 4,
   "id": "0aa21d1b-1a5c-407d-9929-f8bed9ba2b81",
   "metadata": {},
   "outputs": [
    {
     "name": "stdout",
     "output_type": "stream",
     "text": [
      "\n",
      "✅ **Ridge Regression Modeli Eğitildi!**\n",
      "📊 **R² Score:** 0.97033\n",
      "📉 **RMSE Log:** 0.00495\n",
      "⏳ **Training Time:** 0.02160 saniye\n",
      "🔧 **Alpha:** 1.0\n"
     ]
    }
   ],
   "source": [
    "# Modeli eğit ve çıktıları al\n",
    "ridge_regression_model = train_ridge_regression(train_prepared)"
   ]
  },
  {
   "cell_type": "code",
   "execution_count": 5,
   "id": "2b24bea0-e53c-46e5-a424-03154d08b3c6",
   "metadata": {},
   "outputs": [],
   "source": [
    "import numpy as np\n",
    "import pandas as pd\n",
    "\n",
    "def preprocess_dataset_test(file_path, train_columns):\n",
    "    \"\"\"\n",
    "    Test veri setini işler ve train setindeki sütunlarla uyumlu hale getirir.\n",
    "    - Eksik değerleri doldurur.\n",
    "    - Kategorik değişkenleri işler.\n",
    "    - One-Hot Encoding uygular.\n",
    "    - Eksik sütunları sıfır ile doldurur.\n",
    "    \"\"\"\n",
    "    # 📌 1. CSV dosyasını oku\n",
    "    df = pd.read_csv(file_path)\n",
    "    print(f\"✅ Test verisi yüklendi: {df.shape}\")\n",
    "\n",
    "    # 🟢 2. GarageYrBlt, LotFrontage ve MasVnrArea eksik değerlerini doldur\n",
    "    df[\"GarageYrBlt\"].fillna(0, inplace=True)\n",
    "    df[\"LotFrontage\"] = df.groupby(\"Neighborhood\")[\"LotFrontage\"].transform(lambda x: x.fillna(x.median()))\n",
    "    df[\"MasVnrArea\"].fillna(0, inplace=True)\n",
    "\n",
    "    print(\"✅ Eksik değerler dolduruldu!\")\n",
    "\n",
    "    # 🟢 3. Ordinal Encoding Uygula\n",
    "    ordinal_features = {\n",
    "        \"ExterQual\": {\"Ex\": 5, \"Gd\": 4, \"TA\": 3, \"Fa\": 2, \"Po\": 1},\n",
    "        \"ExterCond\": {\"Ex\": 5, \"Gd\": 4, \"TA\": 3, \"Fa\": 2, \"Po\": 1},\n",
    "        \"BsmtQual\": {\"Ex\": 5, \"Gd\": 4, \"TA\": 3, \"Fa\": 2, \"Po\": 1, \"NA\": 0},\n",
    "        \"BsmtCond\": {\"Ex\": 5, \"Gd\": 4, \"TA\": 3, \"Fa\": 2, \"Po\": 1, \"NA\": 0},\n",
    "        \"KitchenQual\": {\"Ex\": 5, \"Gd\": 4, \"TA\": 3, \"Fa\": 2, \"Po\": 1},\n",
    "        \"FireplaceQu\": {\"Ex\": 5, \"Gd\": 4, \"TA\": 3, \"Fa\": 2, \"Po\": 1, \"NA\": 0},\n",
    "        \"GarageQual\": {\"Ex\": 5, \"Gd\": 4, \"TA\": 3, \"Fa\": 2, \"Po\": 1, \"NA\": 0},\n",
    "        \"GarageCond\": {\"Ex\": 5, \"Gd\": 4, \"TA\": 3, \"Fa\": 2, \"Po\": 1, \"NA\": 0},\n",
    "        \"PoolQC\": {\"Ex\": 5, \"Gd\": 4, \"TA\": 3, \"Fa\": 2, \"NA\": 0},\n",
    "        \"Fence\": {\"GdPrv\": 4, \"MnPrv\": 3, \"GdWo\": 2, \"MnWw\": 1, \"NA\": 0}\n",
    "    }\n",
    "    \n",
    "    for col, mapping in ordinal_features.items():\n",
    "        if col in df.columns:\n",
    "            df[col] = df[col].map(mapping)\n",
    "\n",
    "    print(\"✅ Ordinal Encoding tamamlandı!\")\n",
    "\n",
    "    # 🟢 4. One-Hot Encoding Uygula\n",
    "    categorical_cols = df.select_dtypes(include=['object']).columns\n",
    "    df = pd.get_dummies(df, columns=categorical_cols, drop_first=True)\n",
    "    print(\"✅ One-Hot Encoding tamamlandı!\")\n",
    "\n",
    "    # 🟢 5. Train veri setindeki sütunlarla test verisini uyumlu hale getir\n",
    "    missing_cols = set(train_columns) - set(df.columns)\n",
    "    for col in missing_cols:\n",
    "        df[col] = 0  # Eksik sütunları sıfır ile doldur\n",
    "    \n",
    "    df = df[train_columns]  # Fazla olan sütunları kaldır\n",
    "\n",
    "    print(f\"✅ Test seti, train setiyle uyumlu hale getirildi! Yeni şekil: {df.shape}\")\n",
    "\n",
    "    # 🟢 6. Eksik Sayısal Değerleri Median ile Doldur\n",
    "    numerical_cols = df.select_dtypes(include=['int64', 'float64']).columns\n",
    "    missing_before = df[numerical_cols].isna().sum().sum()\n",
    "    df[numerical_cols] = df[numerical_cols].apply(lambda x: x.fillna(x.median()))\n",
    "    print(f\"✅ Sayısal eksik değerler median ile dolduruldu! Toplam değiştirilen hücre sayısı: {missing_before}\")\n",
    "\n",
    "    return df\n"
   ]
  },
  {
   "cell_type": "code",
   "execution_count": 6,
   "id": "047799b1-cb49-44ef-82a5-9bfd5544faff",
   "metadata": {},
   "outputs": [],
   "source": [
    "def test_linear_regression(model, test_df, test_csv_path, output_csv=\"ridge-submission.csv\"):\n",
    "    \"\"\"\n",
    "    Eğitilmiş modeli kullanarak test verisi için tahmin yapar ve sonucu Kaggle submission.csv olarak kaydeder.\n",
    "    \"\"\"\n",
    "    # 📌 Test verisini yükle (Id sütununu ayrı al)\n",
    "    test_raw = pd.read_csv(test_csv_path)\n",
    "    test_ids = test_raw[\"Id\"]  # Orijinal test verisindeki ID'leri al\n",
    "\n",
    "    # 📌 Model ile tahmin yap\n",
    "    predictions_log = model.predict(test_df)\n",
    "\n",
    "    # 📌 Log dönüşümünü geri al (çünkü train'de log uygulanmıştı)\n",
    "    predictions = np.expm1(predictions_log)\n",
    "\n",
    "    # 📌 Tahminleri DataFrame olarak kaydet\n",
    "    submission = pd.DataFrame({\"Id\": test_ids, \"SalePrice\": predictions})\n",
    "\n",
    "    # 📌 CSV olarak kaydet\n",
    "    submission.to_csv(output_csv, index=False)\n",
    "    print(f\"✅ Tahminler {output_csv} dosyasına kaydedildi!\")"
   ]
  },
  {
   "cell_type": "code",
   "execution_count": 7,
   "id": "88221ccc-4eb9-40cb-966d-8e49488fcda1",
   "metadata": {},
   "outputs": [
    {
     "name": "stdout",
     "output_type": "stream",
     "text": [
      "✅ Test verisi yüklendi: (1459, 80)\n",
      "✅ Eksik değerler dolduruldu!\n",
      "✅ Ordinal Encoding tamamlandı!\n",
      "✅ One-Hot Encoding tamamlandı!\n",
      "✅ Test seti, train setiyle uyumlu hale getirildi! Yeni şekil: (1459, 146)\n",
      "✅ Sayısal eksik değerler median ile dolduruldu! Toplam değiştirilen hücre sayısı: 3608\n",
      "✅ Tahminler ridge-submission.csv dosyasına kaydedildi!\n"
     ]
    },
    {
     "name": "stderr",
     "output_type": "stream",
     "text": [
      "C:\\Users\\lerha\\AppData\\Local\\Temp\\ipykernel_12696\\3874843467.py:17: FutureWarning: A value is trying to be set on a copy of a DataFrame or Series through chained assignment using an inplace method.\n",
      "The behavior will change in pandas 3.0. This inplace method will never work because the intermediate object on which we are setting values always behaves as a copy.\n",
      "\n",
      "For example, when doing 'df[col].method(value, inplace=True)', try using 'df.method({col: value}, inplace=True)' or df[col] = df[col].method(value) instead, to perform the operation inplace on the original object.\n",
      "\n",
      "\n",
      "  df[\"GarageYrBlt\"].fillna(0, inplace=True)\n",
      "C:\\Users\\lerha\\AppData\\Local\\Temp\\ipykernel_12696\\3874843467.py:19: FutureWarning: A value is trying to be set on a copy of a DataFrame or Series through chained assignment using an inplace method.\n",
      "The behavior will change in pandas 3.0. This inplace method will never work because the intermediate object on which we are setting values always behaves as a copy.\n",
      "\n",
      "For example, when doing 'df[col].method(value, inplace=True)', try using 'df.method({col: value}, inplace=True)' or df[col] = df[col].method(value) instead, to perform the operation inplace on the original object.\n",
      "\n",
      "\n",
      "  df[\"MasVnrArea\"].fillna(0, inplace=True)\n"
     ]
    }
   ],
   "source": [
    "# 📌 1. Test veri setini işle (train veri setiyle uyumlu hale getir)\n",
    "test_prepared = preprocess_dataset_test(\"test.csv\", train_prepared.drop(columns=[\"SalePrice\"]).columns)\n",
    "\n",
    "# 📌 2. Modeli kullanarak tahmin yap ve submission.csv dosyasını oluştur\n",
    "test_linear_regression(ridge_regression_model, test_prepared, \"test.csv\")\n"
   ]
  },
  {
   "cell_type": "code",
   "execution_count": 8,
   "id": "2a8e1f9e-d0b9-4042-9f54-990fe86a9e5c",
   "metadata": {},
   "outputs": [
    {
     "data": {
      "text/plain": [
       "(1459, 2)"
      ]
     },
     "execution_count": 8,
     "metadata": {},
     "output_type": "execute_result"
    }
   ],
   "source": [
    "asdasd = pd.read_csv(\"ridge-submission.csv\")\n",
    "asdasd.shape"
   ]
  },
  {
   "cell_type": "code",
   "execution_count": null,
   "id": "fdfc4959-63c9-4a3e-b698-ebc443df9d46",
   "metadata": {},
   "outputs": [],
   "source": []
  }
 ],
 "metadata": {
  "kernelspec": {
   "display_name": "Python [conda env:base] *",
   "language": "python",
   "name": "conda-base-py"
  },
  "language_info": {
   "codemirror_mode": {
    "name": "ipython",
    "version": 3
   },
   "file_extension": ".py",
   "mimetype": "text/x-python",
   "name": "python",
   "nbconvert_exporter": "python",
   "pygments_lexer": "ipython3",
   "version": "3.12.7"
  }
 },
 "nbformat": 4,
 "nbformat_minor": 5
}
